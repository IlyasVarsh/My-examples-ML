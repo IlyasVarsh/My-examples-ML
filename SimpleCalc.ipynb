{
 "cells": [
  {
   "cell_type": "code",
   "execution_count": 1,
   "metadata": {},
   "outputs": [],
   "source": [
    "import cv2"
   ]
  },
  {
   "cell_type": "code",
   "execution_count": 2,
   "metadata": {},
   "outputs": [],
   "source": [
    "a=1"
   ]
  },
  {
   "cell_type": "code",
   "execution_count": 3,
   "metadata": {},
   "outputs": [
    {
     "data": {
      "text/plain": [
       "1"
      ]
     },
     "execution_count": 3,
     "metadata": {},
     "output_type": "execute_result"
    }
   ],
   "source": [
    "a"
   ]
  },
  {
   "cell_type": "code",
   "execution_count": 4,
   "metadata": {},
   "outputs": [
    {
     "data": {
      "text/plain": [
       "1"
      ]
     },
     "execution_count": 4,
     "metadata": {},
     "output_type": "execute_result"
    }
   ],
   "source": [
    "a=1\n",
    "a\n"
   ]
  },
  {
   "cell_type": "code",
   "execution_count": null,
   "metadata": {},
   "outputs": [],
   "source": [
    "import math \n",
    "e = math.e\n",
    "p = math.pi\n",
    "from math import pi as p, e as e\n",
    "while True:\n",
    "    x = input(\"DD\")\n",
    "    y = input(\"1\")\n",
    "    z = input(\"+ -\") \n",
    "    if z == \"+\":\n",
    "       print (x+y)\n",
    "    elif z == \"-\":\n",
    "    print (x-y)\n",
    "    "
   ]
  },
  {
   "cell_type": "code",
   "execution_count": null,
   "metadata": {},
   "outputs": [],
   "source": [
    "print(\"Ноль в качестве знака операции завершит работу программы\")\n",
    "while True:\n",
    "    s = input(\"Знак (+,-,*,/): \")\n",
    "    if s == '0': break\n",
    "    if s in ('+','-','*','/'):\n",
    "        x = float(input(\"x=\"))\n",
    "        y = float(input(\"y=\"))\n",
    "        if s == '+':\n",
    "            print(\"%.2f\" % (x+y))\n",
    "        elif s == '-':\n",
    "            print(\"%.2f\" % (x-y))\n",
    "        elif s == '*':\n",
    "            print(\"%.2f\" % (x*y))\n",
    "        elif s == '/':\n",
    "            if y != 0:\n",
    "                print(\"%.2f\" % (x/y))\n",
    "            else:\n",
    "                print(\"Деление на ноль!\")\n",
    "    else:\n",
    "        print(\"Неверный знак операции!\")"
   ]
  },
  {
   "cell_type": "code",
   "execution_count": null,
   "metadata": {},
   "outputs": [],
   "source": [
    "import math \n",
    "e = math.e\n",
    "p = math.pi\n",
    "from math import pi as p, e as e\n",
    "while True:\n",
    "    x = input(\"Введите знак\")\n",
    "    if x in ('+','-','*','/'):\n",
    "    y = input(\"1\")\n",
    "    z = input(\"2\") \n",
    "    if z == \"+\":\n",
    "       print (y+z)\n",
    "    elif z == \"-\":\n",
    "       print (y-z)\n",
    "    else:\n",
    "        print(\"Неверный знак операции!\")\n",
    "    "
   ]
  },
  {
   "cell_type": "code",
   "execution_count": null,
   "metadata": {},
   "outputs": [],
   "source": [
    "import math \n",
    "e = math.e\n",
    "p = math.pi\n",
    "from math import pi as p, e as e\n",
    "print(\"Ноль в качестве знака операции завершит работу программы\")\n",
    "while True:\n",
    "    s = input(\"Знак (+,-,*,/): \")\n",
    "    if s == '0': break\n",
    "    if s in ('+','-','*','/'):\n",
    "        x = float(input(\"x=\"))\n",
    "        y = float(input(\"y=\"))\n",
    "        if s == '+':\n",
    "            print(\"%.2f\" % (x+y))\n",
    "        elif s == '-':\n",
    "            print(\"%.2f\" % (x-y))\n",
    "        elif s == '*':\n",
    "            print(\"%.2f\" % (x*y))\n",
    "        elif s == '/':\n",
    "            if y != 0:\n",
    "                print(\"%.2f\" % (x/y))\n",
    "            else:\n",
    "                print(\"Деление на ноль!\")\n",
    "    else:\n",
    "        print(\"Неверный знак операции!\")"
   ]
  },
  {
   "cell_type": "code",
   "execution_count": null,
   "metadata": {},
   "outputs": [],
   "source": []
  },
  {
   "cell_type": "code",
   "execution_count": null,
   "metadata": {},
   "outputs": [],
   "source": [
    "import math \n",
    "e = math.e\n",
    "p = math.pi\n",
    "from math import pi as p, e as e\n",
    "print(\"Ноль в качестве знака операции завершит работу программы\")\n",
    "while True:\n",
    "    s = input(\"Знак (+,-,*,/): \")\n",
    "    if s == '0': break\n",
    "    if s in ('+','-','*','/'):\n",
    "        x = float(input(\"x=\"))\n",
    "        y = float(input(\"y=\"))\n",
    "        if s == '+':\n",
    "            print(\"%.2f\" % (x+y))\n",
    "        elif s == '-':\n",
    "            print(\"%.2f\" % (x-y))\n",
    "        elif s == '*':\n",
    "            print(\"%.2f\" % (x*y))\n",
    "        elif s == '/':\n",
    "            if y != 0:\n",
    "                print(\"%.2f\" % (x/y))\n",
    "            else:\n",
    "                print(\"Деление на ноль!\")\n",
    "    else:\n",
    "        print(\"Неверный знак операции!\")"
   ]
  },
  {
   "cell_type": "code",
   "execution_count": null,
   "metadata": {},
   "outputs": [],
   "source": [
    "print(\"Ноль в качестве знака операции завершит работу программы\")\n",
    "while True:\n",
    "    s = input(\"Знак (+,-,*,/): \")\n",
    "    if s == '0': break\n",
    "    if s in ('+','-','*','/'):\n",
    "        x = float(input(\"x=\"))\n",
    "        y = float(input(\"y=\"))\n",
    "        if s == '+':\n",
    "            print(\"%.2f\" % (x+y))\n",
    "        elif s == '-':\n",
    "            print(\"%.2f\" % (x-y))\n",
    "        elif s == '*':\n",
    "            print(\"%.2f\" % (x*y))\n",
    "        elif s == '/':\n",
    "            if y != 0:\n",
    "                print(\"%.2f\" % (x/y))\n",
    "            else:\n",
    "                print(\"Деление на ноль!\")\n",
    "    else:\n",
    "        print(\"Неверный знак операции!\")"
   ]
  },
  {
   "cell_type": "code",
   "execution_count": null,
   "metadata": {},
   "outputs": [],
   "source": [
    "s = input(\"Знак (+,-,*,/): \")\n"
   ]
  },
  {
   "cell_type": "code",
   "execution_count": null,
   "metadata": {},
   "outputs": [
    {
     "name": "stdout",
     "output_type": "stream",
     "text": [
      "Ноль в качестве знака операции завершит работу программы\n"
     ]
    }
   ],
   "source": [
    "import math \n",
    "e = math.e\n",
    "p = math.pi\n",
    "from math import pi as p, e as e\n",
    "while True:\n",
    "    s = input(\"Знак (+,-,*,/): \")\n",
    "    if s in ('+','-','*','/'):\n",
    "        x = float(input(\"x=\"))\n",
    "        y = float(input(\"y=\"))\n",
    "        if s == '+':\n",
    "            print( (x+y))\n",
    "        elif s == '-':\n",
    "            print( (x-y))\n",
    "        elif s == '*':\n",
    "            print((x*y))\n",
    "        elif s == '/':\n",
    "            if y != 0:\n",
    "                print( (x/y))\n",
    "            else:\n",
    "                print(\"Деление на ноль!\")\n",
    "    else:\n",
    "        print(\"Неверный знак операции!\")\n",
    "        "
   ]
  },
  {
   "cell_type": "code",
   "execution_count": 6,
   "metadata": {},
   "outputs": [
    {
     "name": "stdout",
     "output_type": "stream",
     "text": [
      "Знак (+,-,*,/): -\n",
      "x=6\n",
      "y=9\n",
      "-3.0\n",
      "Знак (+,-,*,/): -\n",
      "x=e\n"
     ]
    },
    {
     "ename": "ValueError",
     "evalue": "could not convert string to float: 'e'",
     "output_type": "error",
     "traceback": [
      "\u001b[1;31m---------------------------------------------------------------------------\u001b[0m",
      "\u001b[1;31mValueError\u001b[0m                                Traceback (most recent call last)",
      "\u001b[1;32m<ipython-input-6-fce52e9c9b14>\u001b[0m in \u001b[0;36m<module>\u001b[1;34m\u001b[0m\n\u001b[0;32m      7\u001b[0m     \u001b[1;32mif\u001b[0m \u001b[0ms\u001b[0m \u001b[1;32min\u001b[0m \u001b[1;33m(\u001b[0m\u001b[1;34m'+'\u001b[0m\u001b[1;33m,\u001b[0m\u001b[1;34m'-'\u001b[0m\u001b[1;33m,\u001b[0m\u001b[1;34m'*'\u001b[0m\u001b[1;33m,\u001b[0m\u001b[1;34m'/'\u001b[0m\u001b[1;33m)\u001b[0m\u001b[1;33m:\u001b[0m\u001b[1;33m\u001b[0m\u001b[1;33m\u001b[0m\u001b[0m\n\u001b[0;32m      8\u001b[0m         \u001b[0mx\u001b[0m \u001b[1;33m=\u001b[0m \u001b[1;33m(\u001b[0m\u001b[0minput\u001b[0m\u001b[1;33m(\u001b[0m\u001b[1;34m\"x=\"\u001b[0m\u001b[1;33m)\u001b[0m\u001b[1;33m)\u001b[0m\u001b[1;33m\u001b[0m\u001b[1;33m\u001b[0m\u001b[0m\n\u001b[1;32m----> 9\u001b[1;33m         \u001b[0mx1\u001b[0m \u001b[1;33m=\u001b[0m \u001b[0mfloat\u001b[0m\u001b[1;33m(\u001b[0m\u001b[0mx\u001b[0m\u001b[1;33m)\u001b[0m\u001b[1;33m\u001b[0m\u001b[1;33m\u001b[0m\u001b[0m\n\u001b[0m\u001b[0;32m     10\u001b[0m         \u001b[0my\u001b[0m \u001b[1;33m=\u001b[0m \u001b[1;33m(\u001b[0m\u001b[0minput\u001b[0m\u001b[1;33m(\u001b[0m\u001b[1;34m\"y=\"\u001b[0m\u001b[1;33m)\u001b[0m\u001b[1;33m)\u001b[0m\u001b[1;33m\u001b[0m\u001b[1;33m\u001b[0m\u001b[0m\n\u001b[0;32m     11\u001b[0m         \u001b[0my1\u001b[0m \u001b[1;33m=\u001b[0m \u001b[0mfloat\u001b[0m\u001b[1;33m(\u001b[0m\u001b[0my\u001b[0m\u001b[1;33m)\u001b[0m\u001b[1;33m\u001b[0m\u001b[1;33m\u001b[0m\u001b[0m\n",
      "\u001b[1;31mValueError\u001b[0m: could not convert string to float: 'e'"
     ]
    }
   ],
   "source": [
    "import math \n",
    "e = math.e\n",
    "p = math.pi\n",
    "from math import pi as p, e as e\n",
    "while True:\n",
    "    s = input(\"Знак (+,-,*,/): \")\n",
    "    if s in ('+','-','*','/'):\n",
    "        x = (input(\"x=\"))\n",
    "        y = (input(\"y=\"))\n",
    "        y1 = float(y)\n",
    "        if s == '+':\n",
    "            print( (x1+y1))\n",
    "        elif s == '-':\n",
    "            print( (x1-y1))\n",
    "        elif s == '*':\n",
    "            print((x1*y1))\n",
    "        elif s == '/':\n",
    "            if y1 != 0:\n",
    "                print( (x1/y1))\n",
    "            else:\n",
    "                print(\"Деление на ноль!\")\n",
    "    else:\n",
    "        print(\"Неверный знак операции!\")"
   ]
  },
  {
   "cell_type": "code",
   "execution_count": null,
   "metadata": {},
   "outputs": [
    {
     "name": "stdout",
     "output_type": "stream",
     "text": [
      "Знак (+,-,*,/): -\n",
      "x=9\n",
      "y=7\n",
      "2.0\n",
      "Знак (+,-,*,/): 8\n",
      "Неверный знак операции!\n"
     ]
    }
   ],
   "source": [
    "while True:\n",
    "    s = input(\"Знак (+,-,*,/): \")\n",
    "    if s in ('+','-','*','/'):\n",
    "        x = float(input(\"x=\"))\n",
    "        y = float(input(\"y=\"))\n",
    "        if s == '+':\n",
    "            print( (x+y))\n",
    "        elif s == '-':\n",
    "            print( (x-y))\n",
    "        elif s == '*':\n",
    "            print((x*y))\n",
    "        elif s == '/':\n",
    "            if y != 0:\n",
    "                print( (x/y))\n",
    "            else:\n",
    "                print(\"Деление на ноль!\")\n",
    "    else:\n",
    "        print(\"Неверный знак операции!\")"
   ]
  },
  {
   "cell_type": "code",
   "execution_count": 9,
   "metadata": {},
   "outputs": [
    {
     "ename": "SyntaxError",
     "evalue": "Missing parentheses in call to 'print'. Did you mean print(math.pi)? (<ipython-input-9-d34013422e8a>, line 2)",
     "output_type": "error",
     "traceback": [
      "\u001b[1;36m  File \u001b[1;32m\"<ipython-input-9-d34013422e8a>\"\u001b[1;36m, line \u001b[1;32m2\u001b[0m\n\u001b[1;33m    print math.pi\u001b[0m\n\u001b[1;37m             ^\u001b[0m\n\u001b[1;31mSyntaxError\u001b[0m\u001b[1;31m:\u001b[0m Missing parentheses in call to 'print'. Did you mean print(math.pi)?\n"
     ]
    }
   ],
   "source": [
    "import math \n",
    "print math.pi\n",
    "x = float ( math.pi)\n"
   ]
  },
  {
   "cell_type": "code",
   "execution_count": null,
   "metadata": {},
   "outputs": [],
   "source": [
    "import cv2\n",
    "img = cv2.imread (\"C:\\Users\\admin\\Documents\\учёбка\\4 курс\\2\\питон\\RGB.jpg\")\n",
    "cv2.imshow(\"RGB\", img)\n",
    "img1 = cv2.imread (\"C:\\Users\\admin\\Documents\\учёбка\\4 курс\\2\\питон\\RGB.jpg\", cv2.IMREAD_GRAYSCALE)\n",
    "cv2.imshow ('GRAYSCALE', img1)\n",
    "cv2.imwrite('C:\\Users\\admin\\Documents\\учёбка\\4 курс\\2\\питон\\GRAYSCALE.jpg', img1, \n"
   ]
  }
 ],
 "metadata": {
  "kernelspec": {
   "display_name": "Python 3",
   "language": "python",
   "name": "python3"
  },
  "language_info": {
   "codemirror_mode": {
    "name": "ipython",
    "version": 3
   },
   "file_extension": ".py",
   "mimetype": "text/x-python",
   "name": "python",
   "nbconvert_exporter": "python",
   "pygments_lexer": "ipython3",
   "version": "3.7.4"
  }
 },
 "nbformat": 4,
 "nbformat_minor": 2
}
