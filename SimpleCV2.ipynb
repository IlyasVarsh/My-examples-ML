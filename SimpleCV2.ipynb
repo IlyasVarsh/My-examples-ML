{
 "cells": [
  {
   "cell_type": "code",
   "execution_count": 2,
   "metadata": {},
   "outputs": [
    {
     "data": {
      "text/plain": [
       "True"
      ]
     },
     "execution_count": 2,
     "metadata": {},
     "output_type": "execute_result"
    }
   ],
   "source": [
    "import cv2\n",
    "import os\n",
    "import numpy as np\n",
    "img=cv2.imread(\"C:\\M.jpg\",0)\n",
    "#cv2.imshow(\"GRAYSCALE\",img)\n",
    "cv2.imwrite('C:\\savedG.jpg', img) \n",
    "imgInv=255-img\n",
    "cv2.imwrite('C:\\savedI.jpg', imgInv)\n",
    "\n",
    "imgRGB=cv2.imread(\"C:\\M.jpg\",4)\n",
    "cv2.imwrite('C:\\savedRGB.jpg', imgRGB) \n",
    "r,g,b=cv2.split(imgRGB)\n",
    "imgGRB=cv2.merge((g,r,b))\n",
    "cv2.imwrite('C:\\savedGRB.jpg', imgGRB) \n",
    "\n",
    "imgRus = np.full((300, 400, 3), 255, dtype=np.uint8)\n",
    "imgRus[100:200,:,2]=0\n",
    "imgRus[100:200,:,1]=57\n",
    "imgRus[100:200,:,0]=166\n",
    "imgRus[200:300,:,2]=213\n",
    "imgRus[200:300,:,1]=43\n",
    "imgRus[200:300,:,0]=30\n",
    "cv2.imwrite('C:\\savedRus.jpg', imgRus) "
   ]
  },
  {
   "cell_type": "code",
   "execution_count": null,
   "metadata": {},
   "outputs": [
    {
     "name": "stdout",
     "output_type": "stream",
     "text": [
      "Знак (+,-,*,/): +\n",
      "x=p\n",
      "y=e\n",
      "5.859874482048838\n"
     ]
    }
   ],
   "source": [
    "import math \n",
    "e = math.e\n",
    "p = math.pi\n",
    "from math import pi as p, e as e\n",
    "while True:\n",
    "    s = input(\"Знак (+,-,*,/): \")\n",
    "    if s in ('+','-','*','/'):\n",
    "        x = (input(\"x=\"))\n",
    "        x1 = float(eval(x))\n",
    "        y = (input(\"y=\"))\n",
    "        y1 = float(eval(y))\n",
    "        if s == '+':\n",
    "            print( (x1+y1))\n",
    "        elif s == '-':\n",
    "            print( (x1-y1))\n",
    "        elif s == '*':\n",
    "            print((x1*y1))\n",
    "        elif s == '/':\n",
    "            if y1 != 0:\n",
    "                print( (x1/y1))\n",
    "            else:\n",
    "                print(\"Деление на ноль!\")\n",
    "    else:\n",
    "        print(\"Неверный знак операции!\")"
   ]
  },
  {
   "cell_type": "code",
   "execution_count": 3,
   "metadata": {},
   "outputs": [
    {
     "data": {
      "text/plain": [
       "array([[[ 51,  62,  60],\n",
       "        [ 45,  56,  54],\n",
       "        [ 43,  54,  52],\n",
       "        ...,\n",
       "        [191, 182, 172],\n",
       "        [191, 182, 172],\n",
       "        [192, 183, 173]],\n",
       "\n",
       "       [[ 53,  64,  62],\n",
       "        [ 47,  58,  56],\n",
       "        [ 45,  56,  54],\n",
       "        ...,\n",
       "        [191, 182, 172],\n",
       "        [191, 182, 172],\n",
       "        [192, 183, 173]],\n",
       "\n",
       "       [[ 55,  66,  64],\n",
       "        [ 49,  60,  58],\n",
       "        [ 45,  56,  54],\n",
       "        ...,\n",
       "        [191, 182, 172],\n",
       "        [191, 182, 172],\n",
       "        [192, 183, 173]],\n",
       "\n",
       "       ...,\n",
       "\n",
       "       [[178, 175, 167],\n",
       "        [176, 173, 165],\n",
       "        [174, 171, 163],\n",
       "        ...,\n",
       "        [201, 196, 193],\n",
       "        [201, 196, 193],\n",
       "        [201, 196, 193]],\n",
       "\n",
       "       [[178, 175, 167],\n",
       "        [176, 173, 165],\n",
       "        [174, 171, 163],\n",
       "        ...,\n",
       "        [201, 196, 193],\n",
       "        [202, 197, 194],\n",
       "        [202, 197, 194]],\n",
       "\n",
       "       [[178, 175, 167],\n",
       "        [176, 173, 165],\n",
       "        [175, 172, 164],\n",
       "        ...,\n",
       "        [201, 196, 193],\n",
       "        [202, 197, 194],\n",
       "        [202, 197, 194]]], dtype=uint8)"
      ]
     },
     "execution_count": 3,
     "metadata": {},
     "output_type": "execute_result"
    }
   ],
   "source": [
    "imgRGB"
   ]
  },
  {
   "cell_type": "code",
   "execution_count": null,
   "metadata": {},
   "outputs": [],
   "source": []
  }
 ],
 "metadata": {
  "kernelspec": {
   "display_name": "Python 3",
   "language": "python",
   "name": "python3"
  },
  "language_info": {
   "codemirror_mode": {
    "name": "ipython",
    "version": 3
   },
   "file_extension": ".py",
   "mimetype": "text/x-python",
   "name": "python",
   "nbconvert_exporter": "python",
   "pygments_lexer": "ipython3",
   "version": "3.7.4"
  }
 },
 "nbformat": 4,
 "nbformat_minor": 2
}
