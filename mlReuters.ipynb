{
 "cells": [
  {
   "cell_type": "code",
   "execution_count": 1,
   "id": "9ff7cb8f-f04c-48c7-9a32-1003e28ad074",
   "metadata": {},
   "outputs": [
    {
     "name": "stdout",
     "output_type": "stream",
     "text": [
      "/device:GPU:0\n",
      "True\n"
     ]
    }
   ],
   "source": [
    "# Проверка использования GPU\n",
    "import tensorflow as tf\n",
    "print(tf.test.gpu_device_name())\n",
    "print(tf.test.is_built_with_cuda())"
   ]
  },
  {
   "cell_type": "code",
   "execution_count": 1,
   "id": "c1f13f55-1434-4342-9b82-028604373faa",
   "metadata": {},
   "outputs": [
    {
     "name": "stdout",
     "output_type": "stream",
     "text": [
      "8982\n",
      "2246\n"
     ]
    },
    {
     "name": "stderr",
     "output_type": "stream",
     "text": [
      "C:\\Users\\Tuck\\anaconda3\\envs\\ML-GPU\\lib\\site-packages\\tensorflow\\python\\keras\\datasets\\reuters.py:148: VisibleDeprecationWarning: Creating an ndarray from ragged nested sequences (which is a list-or-tuple of lists-or-tuples-or ndarrays with different lengths or shapes) is deprecated. If you meant to do this, you must specify 'dtype=object' when creating the ndarray.\n",
      "  x_train, y_train = np.array(xs[:idx]), np.array(labels[:idx])\n",
      "C:\\Users\\Tuck\\anaconda3\\envs\\ML-GPU\\lib\\site-packages\\tensorflow\\python\\keras\\datasets\\reuters.py:149: VisibleDeprecationWarning: Creating an ndarray from ragged nested sequences (which is a list-or-tuple of lists-or-tuples-or ndarrays with different lengths or shapes) is deprecated. If you meant to do this, you must specify 'dtype=object' when creating the ndarray.\n",
      "  x_test, y_test = np.array(xs[idx:]), np.array(labels[idx:])\n"
     ]
    }
   ],
   "source": [
    "from keras.datasets import reuters\n",
    "(train_data, train_labels), (test_data, test_labels) = reuters.load_data(num_words=10000)\n",
    "print(len(train_data))\n",
    "print(len(test_data))"
   ]
  },
  {
   "cell_type": "code",
   "execution_count": 2,
   "id": "668b3acc-479c-4d17-9cc5-ca960df36674",
   "metadata": {},
   "outputs": [
    {
     "name": "stdout",
     "output_type": "stream",
     "text": [
      "???saidasaresultofitsdecemberacquisitionofspacecoitexpectsearningspersharein1987of115to130dlrspershareupfrom70ctsin1986thecompanysaidpretaxnetshouldrisetonineto10mlndlrsfromsixmlndlrsin1986andrentaloperationrevenuesto19to22mlndlrsfrom125mlndlrsitsaidcashflowpersharethisyearshouldbe250tothreedlrsreuter3\n"
     ]
    }
   ],
   "source": [
    "# Декодирование новостей в текст\n",
    "word_index=reuters.get_word_index()\n",
    "reverse_word_index=dict([(value, key) for (key, value) in word_index.items()])\n",
    "decoded_newswire=''.join([reverse_word_index.get(i-3, '?') for i  in train_data[0]])\n",
    "print(decoded_newswire)"
   ]
  },
  {
   "cell_type": "code",
   "execution_count": 3,
   "id": "0c62ad14-0f8b-41a8-896e-7033e1ecf78b",
   "metadata": {},
   "outputs": [],
   "source": [
    "# Подготовка данных\n",
    "import numpy as np\n",
    "\n",
    "def vectorize_sequences(sequences, dimensions=10000):\n",
    "    results=np.zeros((len(sequences), dimensions))\n",
    "    for i, sequence in enumerate(sequences):\n",
    "        results[i, sequence]=1.\n",
    "    return results\n",
    "x_train=vectorize_sequences(train_data)\n",
    "x_test=vectorize_sequences(test_data)"
   ]
  },
  {
   "cell_type": "code",
   "execution_count": 4,
   "id": "63a023cd-c766-4279-9f84-f49c03655f21",
   "metadata": {},
   "outputs": [],
   "source": [
    "# Второй способ векторизации to_categorical MNIST\n",
    "def to_one_hot(labels, dimensions=46):\n",
    "    results=np.zeros((len(labels), dimensions))\n",
    "    for i, label in enumerate(labels):\n",
    "        results[i, label]=1\n",
    "    return results\n",
    "one_hot_train_labels=to_one_hot(train_labels)\n",
    "one_hot_test_labels=to_one_hot(test_labels)"
   ]
  },
  {
   "cell_type": "code",
   "execution_count": 5,
   "id": "d4cead2f-33ea-41fd-b944-44b31c75f806",
   "metadata": {},
   "outputs": [],
   "source": [
    "# Конструирование нейронной сети\n",
    "from keras import models\n",
    "from keras import layers\n",
    "model=models.Sequential()\n",
    "model.add(layers.Dense(64, activation='relu', input_shape=(10000,)))\n",
    "model.add(layers.Dense(64, activation='relu'))\n",
    "model.add(layers.Dense(46, activation='softmax'))\n",
    "# Компиляция модели\n",
    "model.compile(optimizer='rmsprop',\n",
    "             loss='categorical_crossentropy',\n",
    "             metrics=['accuracy'])"
   ]
  },
  {
   "cell_type": "code",
   "execution_count": 6,
   "id": "3370a3ee-0888-44d0-87b3-36ffe3a22314",
   "metadata": {},
   "outputs": [
    {
     "name": "stdout",
     "output_type": "stream",
     "text": [
      "Epoch 1/20\n",
      "16/16 [==============================] - 0s 25ms/step - loss: 2.6832 - accuracy: 0.5314 - val_loss: 1.7900 - val_accuracy: 0.6320\n",
      "Epoch 2/20\n",
      "16/16 [==============================] - 0s 14ms/step - loss: 1.4440 - accuracy: 0.7035 - val_loss: 1.3197 - val_accuracy: 0.7080\n",
      "Epoch 3/20\n",
      "16/16 [==============================] - 0s 15ms/step - loss: 1.0759 - accuracy: 0.7627 - val_loss: 1.1488 - val_accuracy: 0.7420\n",
      "Epoch 4/20\n",
      "16/16 [==============================] - 0s 15ms/step - loss: 0.8529 - accuracy: 0.8161 - val_loss: 1.0511 - val_accuracy: 0.7660\n",
      "Epoch 5/20\n",
      "16/16 [==============================] - 0s 15ms/step - loss: 0.6859 - accuracy: 0.8514 - val_loss: 0.9808 - val_accuracy: 0.7880\n",
      "Epoch 6/20\n",
      "16/16 [==============================] - 0s 15ms/step - loss: 0.5483 - accuracy: 0.8816 - val_loss: 0.9624 - val_accuracy: 0.7890\n",
      "Epoch 7/20\n",
      "16/16 [==============================] - 0s 15ms/step - loss: 0.4425 - accuracy: 0.9058 - val_loss: 0.9062 - val_accuracy: 0.8090\n",
      "Epoch 8/20\n",
      "16/16 [==============================] - 0s 15ms/step - loss: 0.3608 - accuracy: 0.9196 - val_loss: 0.9164 - val_accuracy: 0.8030\n",
      "Epoch 9/20\n",
      "16/16 [==============================] - 0s 15ms/step - loss: 0.3009 - accuracy: 0.9302 - val_loss: 0.9373 - val_accuracy: 0.8070\n",
      "Epoch 10/20\n",
      "16/16 [==============================] - 0s 15ms/step - loss: 0.2559 - accuracy: 0.9404 - val_loss: 0.9636 - val_accuracy: 0.7950\n",
      "Epoch 11/20\n",
      "16/16 [==============================] - 0s 15ms/step - loss: 0.2206 - accuracy: 0.9470 - val_loss: 0.9509 - val_accuracy: 0.8130\n",
      "Epoch 12/20\n",
      "16/16 [==============================] - 0s 15ms/step - loss: 0.1938 - accuracy: 0.9498 - val_loss: 0.9873 - val_accuracy: 0.7980\n",
      "Epoch 13/20\n",
      "16/16 [==============================] - 0s 15ms/step - loss: 0.1719 - accuracy: 0.9525 - val_loss: 1.0206 - val_accuracy: 0.7840\n",
      "Epoch 14/20\n",
      "16/16 [==============================] - 0s 15ms/step - loss: 0.1569 - accuracy: 0.9531 - val_loss: 0.9943 - val_accuracy: 0.8080\n",
      "Epoch 15/20\n",
      "16/16 [==============================] - 0s 15ms/step - loss: 0.1477 - accuracy: 0.9550 - val_loss: 1.0410 - val_accuracy: 0.8050\n",
      "Epoch 16/20\n",
      "16/16 [==============================] - 0s 15ms/step - loss: 0.1358 - accuracy: 0.9565 - val_loss: 1.0209 - val_accuracy: 0.8090\n",
      "Epoch 17/20\n",
      "16/16 [==============================] - 0s 15ms/step - loss: 0.1311 - accuracy: 0.9554 - val_loss: 1.0579 - val_accuracy: 0.8030\n",
      "Epoch 18/20\n",
      "16/16 [==============================] - 0s 15ms/step - loss: 0.1214 - accuracy: 0.9577 - val_loss: 1.0893 - val_accuracy: 0.7890\n",
      "Epoch 19/20\n",
      "16/16 [==============================] - 0s 15ms/step - loss: 0.1225 - accuracy: 0.9574 - val_loss: 1.0933 - val_accuracy: 0.8010\n",
      "Epoch 20/20\n",
      "16/16 [==============================] - 0s 13ms/step - loss: 0.1113 - accuracy: 0.9575 - val_loss: 1.1135 - val_accuracy: 0.7980\n"
     ]
    }
   ],
   "source": [
    "# Создание проверочного набора\n",
    "x_val=x_train[:1000]\n",
    "partial_x_train=x_train[1000:]\n",
    "\n",
    "y_val=one_hot_train_labels[:1000]\n",
    "partial_y_train=one_hot_train_labels[1000:]\n",
    "# Обучение модели\n",
    "history=model.fit(partial_x_train,\n",
    "                  partial_y_train,\n",
    "                  epochs=20,\n",
    "                  batch_size=512,\n",
    "                  validation_data=(x_val, y_val))"
   ]
  },
  {
   "cell_type": "code",
   "execution_count": 7,
   "id": "0fd61514-f251-4e6e-9cdc-e80da383beea",
   "metadata": {},
   "outputs": [
    {
     "data": {
      "image/png": "[encoded data removed]",
      "text/plain": [
       "<Figure size 432x288 with 1 Axes>"
      ]
     },
     "metadata": {
      "needs_background": "light"
     },
     "output_type": "display_data"
    }
   ],
   "source": [
    "# График потерь\n",
    "import matplotlib.pyplot as plt\n",
    "loss = history.history['loss']\n",
    "val_loss_values = history.history['val_loss']\n",
    "epochs = range(1, len(loss) + 1)\n",
    "plt.plot(epochs, loss, 'bo', label='Training loss')\n",
    "plt.plot(epochs, val_loss_values, 'b', label='Validation loss') \n",
    "plt.title('Training and validation loss')\n",
    "plt.xlabel('Epochs')\n",
    "plt.ylabel('Loss')\n",
    "plt.legend()\n",
    "plt.show()"
   ]
  },
  {
   "cell_type": "code",
   "execution_count": 8,
   "id": "a0bc4b5a-959c-414a-89d9-2e7f2aba276a",
   "metadata": {},
   "outputs": [
    {
     "data": {
      "image/png": "[encoded data removed]",
      "text/plain": [
       "<Figure size 432x288 with 1 Axes>"
      ]
     },
     "metadata": {
      "needs_background": "light"
     },
     "output_type": "display_data"
    }
   ],
   "source": [
    "# График точности\n",
    "acc=history.history['accuracy']\n",
    "val_acc = history.history['val_accuracy']\n",
    "plt.plot(epochs, acc, 'bo', label='Training acc')\n",
    "plt.plot(epochs, val_acc, 'b', label='Validation acc')\n",
    "plt.title('Training and validation accuracy')\n",
    "plt.xlabel('Epochs')\n",
    "plt.ylabel('Accuracy')\n",
    "plt.legend()\n",
    "plt.show()"
   ]
  },
  {
   "cell_type": "code",
   "execution_count": 29,
   "id": "50d983f7-25dc-4f66-b493-4eb699a619e5",
   "metadata": {},
   "outputs": [
    {
     "name": "stdout",
     "output_type": "stream",
     "text": [
      "Epoch 1/9\n",
      "16/16 [==============================] - 0s 21ms/step - loss: 2.6163 - accuracy: 0.5387 - val_loss: 1.7562 - val_accuracy: 0.6490\n",
      "Epoch 2/9\n",
      "16/16 [==============================] - 0s 13ms/step - loss: 1.4222 - accuracy: 0.7035 - val_loss: 1.3009 - val_accuracy: 0.7100\n",
      "Epoch 3/9\n",
      "16/16 [==============================] - 0s 13ms/step - loss: 1.0501 - accuracy: 0.7747 - val_loss: 1.1321 - val_accuracy: 0.7420\n",
      "Epoch 4/9\n",
      "16/16 [==============================] - 0s 14ms/step - loss: 0.8176 - accuracy: 0.8244 - val_loss: 1.0269 - val_accuracy: 0.7780\n",
      "Epoch 5/9\n",
      "16/16 [==============================] - 0s 13ms/step - loss: 0.6505 - accuracy: 0.8629 - val_loss: 0.9823 - val_accuracy: 0.7880\n",
      "Epoch 6/9\n",
      "16/16 [==============================] - 0s 13ms/step - loss: 0.5201 - accuracy: 0.8943 - val_loss: 0.9246 - val_accuracy: 0.8100\n",
      "Epoch 7/9\n",
      "16/16 [==============================] - 0s 14ms/step - loss: 0.4158 - accuracy: 0.9153 - val_loss: 0.9125 - val_accuracy: 0.8090\n",
      "Epoch 8/9\n",
      "16/16 [==============================] - 0s 14ms/step - loss: 0.3439 - accuracy: 0.9277 - val_loss: 0.9338 - val_accuracy: 0.8050\n",
      "Epoch 9/9\n",
      "16/16 [==============================] - 0s 12ms/step - loss: 0.2853 - accuracy: 0.9417 - val_loss: 0.8912 - val_accuracy: 0.8180\n",
      "71/71 [==============================] - 0s 2ms/step - loss: 0.9509 - accuracy: 0.7943\n"
     ]
    }
   ],
   "source": [
    "model=models.Sequential()\n",
    "model.add(layers.Dense(64, activation='relu', input_shape=(10000,)))\n",
    "model.add(layers.Dense(64, activation='relu'))\n",
    "model.add(layers.Dense(46, activation='softmax'))\n",
    "# Компиляция модели\n",
    "model.compile(optimizer='rmsprop',\n",
    "             loss='categorical_crossentropy',\n",
    "             metrics=['accuracy'])\n",
    "# Обучение модели\n",
    "history=model.fit(partial_x_train,\n",
    "                  partial_y_train,\n",
    "                  epochs=9,\n",
    "                  batch_size=512,\n",
    "                  validation_data=(x_val, y_val))\n",
    "results = model.evaluate(x_test, one_hot_test_labels)"
   ]
  },
  {
   "cell_type": "code",
   "execution_count": 30,
   "id": "d7ef8bf8-52e0-4acf-91b2-a657f9b1706a",
   "metadata": {},
   "outputs": [
    {
     "name": "stdout",
     "output_type": "stream",
     "text": [
      "[0.9508577585220337, 0.7943009734153748]\n"
     ]
    }
   ],
   "source": [
    "print(results)"
   ]
  },
  {
   "cell_type": "code",
   "execution_count": 31,
   "id": "28c39a23-6529-4fb8-9d86-bda1b8ab960b",
   "metadata": {},
   "outputs": [
    {
     "data": {
      "image/png": "[encoded data removed]",
      "text/plain": [
       "<Figure size 432x288 with 1 Axes>"
      ]
     },
     "metadata": {
      "needs_background": "light"
     },
     "output_type": "display_data"
    },
    {
     "data": {
      "image/png": "[encoded data removed]",
      "text/plain": [
       "<Figure size 432x288 with 1 Axes>"
      ]
     },
     "metadata": {
      "needs_background": "light"
     },
     "output_type": "display_data"
    }
   ],
   "source": [
    "# График потерь\n",
    "import matplotlib.pyplot as plt\n",
    "loss = history.history['loss']\n",
    "val_loss_values = history.history['val_loss']\n",
    "epochs = range(1, len(loss) + 1)\n",
    "plt.plot(epochs, loss, 'bo', label='Training loss')\n",
    "plt.plot(epochs, val_loss_values, 'b', label='Validation loss') \n",
    "plt.title('Training and validation loss')\n",
    "plt.xlabel('Epochs')\n",
    "plt.ylabel('Loss')\n",
    "plt.legend()\n",
    "plt.show()\n",
    "# График точности\n",
    "acc=history.history['accuracy']\n",
    "val_acc = history.history['val_accuracy']\n",
    "plt.plot(epochs, acc, 'bo', label='Training acc')\n",
    "plt.plot(epochs, val_acc, 'b', label='Validation acc')\n",
    "plt.title('Training and validation accuracy')\n",
    "plt.xlabel('Epochs')\n",
    "plt.ylabel('Accuracy')\n",
    "plt.legend()\n",
    "plt.show()"
   ]
  },
  {
   "cell_type": "code",
   "execution_count": 11,
   "id": "e5b1e483-228c-4cab-ba42-04a9d5b1b1aa",
   "metadata": {},
   "outputs": [
    {
     "data": {
      "text/plain": [
       "0.19056099732858414"
      ]
     },
     "execution_count": 11,
     "metadata": {},
     "output_type": "execute_result"
    }
   ],
   "source": [
    "# Точность случайного классификатора\n",
    "import copy\n",
    "test_labels_copy=copy.copy(test_labels)\n",
    "np.random.shuffle(test_labels_copy)\n",
    "hits_array=np.array(test_labels)==np.array(test_labels_copy)\n",
    "float(np.sum(hits_array))/len(test_labels)"
   ]
  },
  {
   "cell_type": "code",
   "execution_count": 12,
   "id": "8a32b280-b493-449b-a1c6-0db7d6ab2593",
   "metadata": {},
   "outputs": [
    {
     "name": "stdout",
     "output_type": "stream",
     "text": [
      "(46,)\n",
      "0.99999994\n",
      "3\n"
     ]
    }
   ],
   "source": [
    "# Предсказание на новых данных\n",
    "predictions=model.predict(x_test)\n",
    "print(predictions[0].shape)\n",
    "print(np.sum(predictions[0]))\n",
    "print(np.argmax(predictions[0]))"
   ]
  },
  {
   "cell_type": "code",
   "execution_count": null,
   "id": "679f0f5f-c89c-405b-8021-05ca0b576dc3",
   "metadata": {},
   "outputs": [],
   "source": []
  }
 ],
 "metadata": {
  "kernelspec": {
   "display_name": "TensorFlow-GPU",
   "language": "python",
   "name": "ml-gpu"
  },
  "language_info": {
   "codemirror_mode": {
    "name": "ipython",
    "version": 3
   },
   "file_extension": ".py",
   "mimetype": "text/x-python",
   "name": "python",
   "nbconvert_exporter": "python",
   "pygments_lexer": "ipython3",
   "version": "3.8.8"
  }
 },
 "nbformat": 4,
 "nbformat_minor": 5
}
